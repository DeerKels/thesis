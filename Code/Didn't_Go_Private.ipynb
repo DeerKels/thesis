{
  "nbformat": 4,
  "nbformat_minor": 0,
  "metadata": {
    "colab": {
      "provenance": []
    },
    "kernelspec": {
      "name": "python3",
      "display_name": "Python 3"
    },
    "language_info": {
      "name": "python"
    }
  },
  "cells": [
    {
      "cell_type": "code",
      "execution_count": null,
      "metadata": {
        "colab": {
          "base_uri": "https://localhost:8080/"
        },
        "id": "q_zr1zozjTbr",
        "outputId": "f1cbb80c-77d0-4178-bb33-b701f04af2b7"
      },
      "outputs": [
        {
          "output_type": "stream",
          "name": "stdout",
          "text": [
            "Drive already mounted at /content/drive; to attempt to forcibly remount, call drive.mount(\"/content/drive\", force_remount=True).\n"
          ]
        }
      ],
      "source": [
        "import pandas as pd\n",
        "import matplotlib.pyplot as plt\n",
        "from google.colab import drive\n",
        "drive.mount('/content/drive')"
      ]
    },
    {
      "cell_type": "code",
      "source": [
        "compustat = pd.read_csv('/content/drive/MyDrive/Senior Fall/Senior Thesis/Data/Separately/compustat.csv', converters={'Global Company Key':str}, dtype='string')"
      ],
      "metadata": {
        "id": "aag0VPlFjZju"
      },
      "execution_count": null,
      "outputs": []
    },
    {
      "cell_type": "code",
      "source": [
        "unique = pd.read_excel('/content/drive/MyDrive/Senior Fall/Senior Thesis/Data/Separately/Unique.xlsx', converters={'Global Company Key':str})"
      ],
      "metadata": {
        "id": "PZpHVqwrvJVg"
      },
      "execution_count": null,
      "outputs": []
    },
    {
      "cell_type": "code",
      "source": [
        "compustat.columns = unique.columns\n",
        "compustat['Data Date'] = pd.to_datetime(compustat['Data Date'])"
      ],
      "metadata": {
        "id": "ss2Mz8YntOrZ"
      },
      "execution_count": null,
      "outputs": []
    },
    {
      "cell_type": "markdown",
      "source": [
        "for each row in Unique:\n",
        "1. Locate all rows in Compustat that correspond to the same ticker\n",
        "2. Drop this row along with the 3 quarters before it and all rows after."
      ],
      "metadata": {
        "id": "ziR09Ra74m2R"
      }
    },
    {
      "cell_type": "code",
      "source": [
        "def rows_before_date(date, df):\n",
        "  return df[df['Data Date'] <= date]\n",
        "\n",
        "def rows_matching_gvkey(gvkey, df):\n",
        "  return df.loc[df['Global Company Key'] == gvkey]"
      ],
      "metadata": {
        "id": "W4yoqPQy7GPu"
      },
      "execution_count": null,
      "outputs": []
    },
    {
      "cell_type": "code",
      "source": [
        "not_selected = pd.DataFrame(columns=compustat.columns)\n",
        "\n",
        "for index, row in unique.iterrows():\n",
        "    date = row['Data Date']\n",
        "    gvkey = row['Global Company Key']\n",
        "\n",
        "    temp = rows_before_date(date, rows_matching_gvkey(gvkey, compustat))\n",
        "    temp = temp.iloc[:-4]\n",
        "    not_selected = pd.concat([not_selected, temp], ignore_index = True)"
      ],
      "metadata": {
        "id": "B7X21kTU4nTA"
      },
      "execution_count": null,
      "outputs": []
    },
    {
      "cell_type": "code",
      "source": [
        "not_selected.to_excel('not_selected.xlsx', index=False)\n",
        "not_selected.to_csv('not_selected.csv', index=False)"
      ],
      "metadata": {
        "id": "cdnQpl8Lz4Cb"
      },
      "execution_count": null,
      "outputs": []
    },
    {
      "cell_type": "code",
      "source": [
        "not_selected = pd.read_excel('/content/drive/MyDrive/Senior Fall/Senior Thesis/Data/Separately/not_selected.xlsx', converters={'Global Company Key':str})"
      ],
      "metadata": {
        "id": "DUPECudv2UfO"
      },
      "execution_count": null,
      "outputs": []
    },
    {
      "cell_type": "code",
      "source": [
        "unique_keys = unique['Global Company Key'].tolist()"
      ],
      "metadata": {
        "id": "lLQklsmf2vvf"
      },
      "execution_count": null,
      "outputs": []
    },
    {
      "cell_type": "code",
      "source": [
        "for index, row in compustat.iterrows():\n",
        "    gvkey = row['Global Company Key']\n",
        "    if gvkey not in unique_keys:\n",
        "        not_selected = not_selected.append(row)"
      ],
      "metadata": {
        "id": "zb9UoKls7Nab"
      },
      "execution_count": null,
      "outputs": []
    },
    {
      "cell_type": "code",
      "source": [
        "not_selected"
      ],
      "metadata": {
        "id": "7bgiAKaD8n6j"
      },
      "execution_count": null,
      "outputs": []
    },
    {
      "cell_type": "markdown",
      "source": [
        "Now for each gvkey in compustat:\n",
        "if that gvkey is not in unique, add all rows corresponding to that gvkey in compustat to not_selected"
      ],
      "metadata": {
        "id": "OOLgdRlar77h"
      }
    },
    {
      "cell_type": "markdown",
      "source": [
        "Steps:\n",
        "1. Drop all rows present in unique from compustat.\n",
        "2. Group by fiscal year\n",
        "3. For each fiscal year, Randomly select 2000 firms from the list of tickers and randomly select a quarter among [1, 2, 3, 4] if that quarter exists\n",
        "\n",
        "\n",
        "ex. Anlon was bought out in 4/21/21. Drop all Anlon rows after that date\n",
        "\n",
        "\n",
        "\n",
        "\n",
        "\n"
      ],
      "metadata": {
        "id": "nH1ltN7Fj2Ig"
      }
    }
  ]
}
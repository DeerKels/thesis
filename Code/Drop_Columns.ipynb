{
  "nbformat": 4,
  "nbformat_minor": 0,
  "metadata": {
    "colab": {
      "provenance": []
    },
    "kernelspec": {
      "name": "python3",
      "display_name": "Python 3"
    },
    "language_info": {
      "name": "python"
    }
  },
  "cells": [
    {
      "cell_type": "code",
      "execution_count": null,
      "metadata": {
        "colab": {
          "base_uri": "https://localhost:8080/"
        },
        "id": "NLrllO8_yXOj",
        "outputId": "cde8dcb4-9aaa-48ee-d019-cad791bad99a"
      },
      "outputs": [
        {
          "output_type": "stream",
          "name": "stdout",
          "text": [
            "Mounted at /content/drive\n"
          ]
        }
      ],
      "source": [
        "import pandas as pd\n",
        "import matplotlib.pyplot as plt\n",
        "from google.colab import drive\n",
        "drive.mount('/content/drive')"
      ]
    },
    {
      "cell_type": "code",
      "source": [
        "compustat = pd.read_csv('/content/drive/MyDrive/Senior Fall/Senior Thesis/Data/Separately/compustat.csv', converters={'Global Company Key':str}, dtype='string')\n",
        "unique = pd.read_excel('/content/drive/MyDrive/Senior Fall/Senior Thesis/Data/Separately/Unique.xlsx', converters={'Global Company Key':str})\n",
        "compustat.columns = unique.columns\n",
        "compustat['Data Date'] = pd.to_datetime(compustat['Data Date'])\n",
        "not_selected = pd.read_excel('/content/drive/MyDrive/Senior Fall/Senior Thesis/Data/Separately/not_selected.xlsx', converters={'Global Company Key':str})"
      ],
      "metadata": {
        "id": "P0s2YK3DycR5"
      },
      "execution_count": null,
      "outputs": []
    },
    {
      "cell_type": "code",
      "source": [
        "with open('column_names.txt', 'w') as file:\n",
        "    file.write('\\n'.join(compustat.columns))"
      ],
      "metadata": {
        "id": "VkXB-vj_EcK_"
      },
      "execution_count": null,
      "outputs": []
    },
    {
      "cell_type": "markdown",
      "source": [
        "Then I am going to sift through the file and compare the column names to wrds to see which ones I need and don't need. Save that txt file as a new file. Below, I am going to read in the sifted column names:"
      ],
      "metadata": {
        "id": "Z4nbvn0PEpdP"
      }
    },
    {
      "cell_type": "code",
      "source": [
        "with open('column_to_drop.txt', 'r') as file:\n",
        "    content = file.read()\n",
        "columns_to_drop = content.split('\\n')"
      ],
      "metadata": {
        "id": "0cVn5wo_Ezcm"
      },
      "execution_count": null,
      "outputs": []
    },
    {
      "cell_type": "code",
      "source": [
        "compustat = compustat.drop(columns=columns_to_drop)"
      ],
      "metadata": {
        "id": "I5PWdmBR5S_x"
      },
      "execution_count": null,
      "outputs": []
    },
    {
      "cell_type": "code",
      "source": [
        "unique = unique.drop(columns=columns_to_drop)"
      ],
      "metadata": {
        "id": "UQquP1cG5tKv"
      },
      "execution_count": null,
      "outputs": []
    },
    {
      "cell_type": "code",
      "source": [
        "not_selected = not_selected.drop(columns=columns_to_drop)"
      ],
      "metadata": {
        "id": "VRo2zIC15vij"
      },
      "execution_count": null,
      "outputs": []
    },
    {
      "cell_type": "code",
      "source": [
        "compustat.to_csv('Compustat.csv', index=False)"
      ],
      "metadata": {
        "id": "ELa-FWkI5y4o"
      },
      "execution_count": null,
      "outputs": []
    },
    {
      "cell_type": "code",
      "source": [
        "unique.to_csv('Unique.csv', index=False)"
      ],
      "metadata": {
        "id": "543J2xcY6DDQ"
      },
      "execution_count": null,
      "outputs": []
    },
    {
      "cell_type": "code",
      "source": [
        "not_selected.to_csv('Not_Selected.csv', index=False)"
      ],
      "metadata": {
        "id": "NbdcoteU6GAl"
      },
      "execution_count": null,
      "outputs": []
    }
  ]
}